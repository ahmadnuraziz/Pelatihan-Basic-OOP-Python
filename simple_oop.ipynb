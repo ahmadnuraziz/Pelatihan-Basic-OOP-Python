{
 "cells": [
  {
   "cell_type": "markdown",
   "metadata": {},
   "source": [
    "# Hero\n",
    "\n",
    "## attribut \n",
    "nama,posisi,attack,defense,speed\n",
    "## method\n",
    "#### move: mengubah posisi\n",
    "#### description: deskripsi nama hero\n",
    "#### setattrb: mengubah atribut hero\n",
    "#### pwr_desc: deskripsi kekuatan hero\n",
    "\n",
    "## job hero\n",
    "skill_desc\n",
    "job_desc"
   ]
  },
  {
   "cell_type": "code",
   "execution_count": 97,
   "metadata": {},
   "outputs": [],
   "source": [
    "class Hero:\n",
    "    \n",
    "    def __init__(self,name,position,atk,defn,spd):\n",
    "        self.position = position\n",
    "        self.name = name\n",
    "        self.atk = atk\n",
    "        self.defn = defn\n",
    "        self.spd = spd\n",
    "    \n",
    "    def description(self):\n",
    "        print(\"Hero ini bernama {}\".format(self.name))\n",
    "        print(\"Hero ini bernama {}\".format(self.name))\n",
    "    \n",
    "    def move(self,step):\n",
    "        self.position[0],self.position[1] = self.position[0] + step[0],self.position[1] + step[1]\n",
    "        return self.position\n",
    "    \n",
    "    def setattrb(self,atk,defn,spd):\n",
    "        self.atk = atk\n",
    "        self.defn = defn\n",
    "        self.spd = spd\n",
    "        \n",
    "    def pwr_desc(self):\n",
    "        print(\"Attack: \"+str(self.atk))\n",
    "        print(\"Defense: \"+str(self.defn))\n",
    "        print(\"Speed: \"+str(self.spd)+\"\\n\")    \n",
    "    \n",
    "class Warrior(Hero):\n",
    "    skill = [\"tenaga kentir\",\"pukulan kentir\"]\n",
    "    tipe = \"warrior\"\n",
    "    \n",
    "    def job_desc(self):\n",
    "        print(\"Hero ini memiliki daya serangan dan pertahanan fisik yang kuat \\n\")\n",
    "        \n",
    "    def skill_desc(self):\n",
    "        print(\"Skill 1: {}\".format(Warrior.skill[0]))\n",
    "        print(\"Skill 2: {}\".format(Warrior.skill[1]))\n",
    "\n",
    "class Mage(Hero):\n",
    "    skill = [\"ramalan maut\",\"ilmu hitam\"]\n",
    "    tipe = \"mage\"\n",
    "    \n",
    "    def job_desc(self):\n",
    "        print(\"Hero ini memiliki daya serangan paling kuat tapi hatinya rapuh \\n\")\n",
    "    \n",
    "    def skill_desc(self):\n",
    "        print(\"Skill 1: {}\".format(Mage.skill[0]))\n",
    "        print(\"Skill 2: {}\".format(Mage.skill[1]))\n"
   ]
  },
  {
   "cell_type": "code",
   "execution_count": 98,
   "metadata": {},
   "outputs": [],
   "source": [
    "a = Warrior(\"aziz\",[0,0],100,200,30)\n",
    "b = Mage(\"kentir\",[1,1],200,30,40)"
   ]
  },
  {
   "cell_type": "code",
   "execution_count": 99,
   "metadata": {},
   "outputs": [
    {
     "data": {
      "text/plain": [
       "[2, 4]"
      ]
     },
     "execution_count": 99,
     "metadata": {},
     "output_type": "execute_result"
    }
   ],
   "source": [
    "b.move([1,3])"
   ]
  },
  {
   "cell_type": "code",
   "execution_count": 100,
   "metadata": {},
   "outputs": [],
   "source": [
    "a.setattrb(300,100,20)\n",
    "b.setattrb(500,30,30)"
   ]
  },
  {
   "cell_type": "code",
   "execution_count": 101,
   "metadata": {},
   "outputs": [
    {
     "name": "stdout",
     "output_type": "stream",
     "text": [
      "Hero ini bernama aziz\n",
      "Hero ini bernama aziz\n",
      "Hero ini bernama kentir\n",
      "Hero ini bernama kentir\n"
     ]
    }
   ],
   "source": [
    "a.description()\n",
    "b.description()"
   ]
  },
  {
   "cell_type": "code",
   "execution_count": 102,
   "metadata": {},
   "outputs": [
    {
     "name": "stdout",
     "output_type": "stream",
     "text": [
      "Attack: 300\n",
      "Defense: 100\n",
      "Speed: 20\n",
      "\n",
      "Attack: 500\n",
      "Defense: 30\n",
      "Speed: 30\n",
      "\n"
     ]
    }
   ],
   "source": [
    "a.pwr_desc()\n",
    "b.pwr_desc()"
   ]
  },
  {
   "cell_type": "code",
   "execution_count": 103,
   "metadata": {},
   "outputs": [
    {
     "name": "stdout",
     "output_type": "stream",
     "text": [
      "Skill 1: tenaga kentir\n",
      "Skill 2: pukulan kentir\n",
      "Skill 1: ramalan maut\n",
      "Skill 2: ilmu hitam\n"
     ]
    }
   ],
   "source": [
    "a.skill_desc()\n",
    "b.skill_desc()"
   ]
  },
  {
   "cell_type": "code",
   "execution_count": 36,
   "metadata": {},
   "outputs": [
    {
     "data": {
      "text/plain": [
       "30"
      ]
     },
     "execution_count": 36,
     "metadata": {},
     "output_type": "execute_result"
    }
   ],
   "source": [
    "a.defn"
   ]
  },
  {
   "cell_type": "code",
   "execution_count": 37,
   "metadata": {},
   "outputs": [
    {
     "data": {
      "text/plain": [
       "'aziz'"
      ]
     },
     "execution_count": 37,
     "metadata": {},
     "output_type": "execute_result"
    }
   ],
   "source": [
    "a.name"
   ]
  },
  {
   "cell_type": "code",
   "execution_count": 107,
   "metadata": {},
   "outputs": [],
   "source": [
    "import matplotlib.pyplot as plt\n",
    "%matplotlib inline\n",
    "\n",
    "def plot_obj(*hero):\n",
    "    plt.scatter(a.position[0],a.position[1])\n",
    "    plt.scatter(b.position[0],b.position[1])"
   ]
  },
  {
   "cell_type": "code",
   "execution_count": 114,
   "metadata": {},
   "outputs": [
    {
     "data": {
      "image/png": "[encoded data removed]",
      "text/plain": [
       "<Figure size 432x288 with 1 Axes>"
      ]
     },
     "metadata": {
      "needs_background": "light"
     },
     "output_type": "display_data"
    }
   ],
   "source": [
    "a.move([-3,-3])\n",
    "b.move([-1,0])\n",
    "plot_obj(a,b)"
   ]
  },
  {
   "cell_type": "code",
   "execution_count": null,
   "metadata": {},
   "outputs": [],
   "source": []
  }
 ],
 "metadata": {
  "kernelspec": {
   "display_name": "Python 3",
   "language": "python",
   "name": "python3"
  },
  "language_info": {
   "codemirror_mode": {
    "name": "ipython",
    "version": 3
   },
   "file_extension": ".py",
   "mimetype": "text/x-python",
   "name": "python",
   "nbconvert_exporter": "python",
   "pygments_lexer": "ipython3",
   "version": "3.5.2"
  }
 },
 "nbformat": 4,
 "nbformat_minor": 2
}
