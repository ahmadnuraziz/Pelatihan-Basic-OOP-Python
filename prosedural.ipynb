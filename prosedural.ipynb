{
 "cells": [
  {
   "cell_type": "markdown",
   "metadata": {},
   "source": [
    "# Hero\n",
    "\n",
    "## attribut \n",
    "nama,posisi,attack,defense,speed\n",
    "## method\n",
    "#### move: mengubah posisi\n",
    "#### description: deskripsi nama hero\n",
    "#### setattrb: mengubah atribut hero\n",
    "#### pwr_desc: deskripsi kekuatan hero\n",
    "\n",
    "## job hero\n",
    "skill_desc\n",
    "job_desc"
   ]
  },
  {
   "cell_type": "code",
   "execution_count": 39,
   "metadata": {},
   "outputs": [],
   "source": [
    "hero = {\"name\":{}}"
   ]
  },
  {
   "cell_type": "code",
   "execution_count": 107,
   "metadata": {},
   "outputs": [],
   "source": [
    "def add_hero(name,position,attack,defense,speed,job=\"\"):\n",
    "    hero[name] = {\"name\":name,\"position\":position,\"attack\":attack,\n",
    "                  \"defense\":defense,\"speed\":speed,\"job\":\"\"}\n",
    "    return print(\"Berhasil ditambahkan!\")\n",
    "\n",
    "def set_attrb(name,**kwargs):\n",
    "    for key,value in kwargs.items():\n",
    "        hero[name][key] = value\n",
    "        \n",
    "def pwr_desc(name):\n",
    "    print(\"Nama : {}\".format(name))\n",
    "    print(\"Attack  : {}\".format(hero[name]['attack']))\n",
    "    print(\"Defense  : {}\".format(hero[name]['defense']))\n",
    "    print(\"Speed  : {}\".format(hero[name]['speed']))\n",
    "    print(\"Job : {}\".format(hero[name]['job']))\n",
    "\n",
    "def job_desc(name):\n",
    "    if hero[name]['job'] == \"Warrior\":\n",
    "        print(\"Warrior adalah hero yang memiliki serangan dan pertahanan fisik yang kuat\")\n",
    "    elif hero[name]['job'] == \"Mage\":\n",
    "        print(\"Mage adalah hero yang memiliki serangan sangat kuat namun hatinya lemah\")\n",
    "    else:\n",
    "        print(\"Hero belum memiliki job alias nganggur\")\n",
    "        \n",
    "def skill_desc(name):\n",
    "    if hero[name]['job'] == \"Warrior\":\n",
    "        print(\"Skill 1: tenaga kentir\")\n",
    "        print(\"Skill 2: pukulan kentir\")\n",
    "    elif hero[name]['job'] == \"Mage\":\n",
    "        print(\"Skill 1: ramalan maut\")\n",
    "        print(\"Skill 2: ilmu hitam\")\n",
    "    else:\n",
    "        print(\"Hero belum memiliki job alias nganggur\")\n",
    "        \n",
    "def move(name,step):\n",
    "    hero[name]['position'][0] = hero[name]['position'][0] + step[0]\n",
    "    hero[name]['position'][1] = hero[name]['position'][1] + step[1]"
   ]
  },
  {
   "cell_type": "code",
   "execution_count": 68,
   "metadata": {},
   "outputs": [
    {
     "name": "stdout",
     "output_type": "stream",
     "text": [
      "Berhasil ditambahkan!\n",
      "Berhasil ditambahkan!\n"
     ]
    }
   ],
   "source": [
    "add_hero(\"kentir\",[0,0],100,200,30)\n",
    "add_hero(\"aziz\",[1,3],200,100,50)"
   ]
  },
  {
   "cell_type": "code",
   "execution_count": 69,
   "metadata": {},
   "outputs": [
    {
     "name": "stdout",
     "output_type": "stream",
     "text": [
      "Nama : aziz\n",
      "Attack  : 200\n",
      "Defense  : 100\n",
      "Speed  : 50\n"
     ]
    }
   ],
   "source": [
    "pwr_desc('aziz')"
   ]
  },
  {
   "cell_type": "code",
   "execution_count": 70,
   "metadata": {},
   "outputs": [
    {
     "name": "stdout",
     "output_type": "stream",
     "text": [
      "Hero belum memiliki job alias nganggur\n"
     ]
    }
   ],
   "source": [
    "job_desc(\"aziz\")"
   ]
  },
  {
   "cell_type": "code",
   "execution_count": 101,
   "metadata": {},
   "outputs": [],
   "source": [
    "kwargs = {\"job\":\"Mage\",\"attack\":150}\n",
    "set_attrb(name=\"aziz\",**kwargs)"
   ]
  },
  {
   "cell_type": "code",
   "execution_count": 102,
   "metadata": {},
   "outputs": [
    {
     "name": "stdout",
     "output_type": "stream",
     "text": [
      "Nama : aziz\n",
      "Attack  : 150\n",
      "Defense  : 100\n",
      "Speed  : 50\n",
      "Job : Mage\n"
     ]
    }
   ],
   "source": [
    "pwr_desc(\"aziz\")"
   ]
  },
  {
   "cell_type": "code",
   "execution_count": 97,
   "metadata": {},
   "outputs": [],
   "source": [
    "hero['aziz']['job'] = 'Warrior'"
   ]
  },
  {
   "cell_type": "code",
   "execution_count": 109,
   "metadata": {},
   "outputs": [
    {
     "data": {
      "text/plain": [
       "{'attack': 150,\n",
       " 'defense': 100,\n",
       " 'job': 'Mage',\n",
       " 'name': 'aziz',\n",
       " 'position': [3, 0],\n",
       " 'speed': 50}"
      ]
     },
     "execution_count": 109,
     "metadata": {},
     "output_type": "execute_result"
    }
   ],
   "source": [
    "hero['aziz']"
   ]
  },
  {
   "cell_type": "code",
   "execution_count": 108,
   "metadata": {},
   "outputs": [],
   "source": [
    "move('aziz',[2,-3])"
   ]
  },
  {
   "cell_type": "code",
   "execution_count": 104,
   "metadata": {},
   "outputs": [
    {
     "data": {
      "text/plain": [
       "[0, 1]"
      ]
     },
     "execution_count": 104,
     "metadata": {},
     "output_type": "execute_result"
    }
   ],
   "source": [
    "[0] + [1]"
   ]
  },
  {
   "cell_type": "code",
   "execution_count": null,
   "metadata": {},
   "outputs": [],
   "source": []
  }
 ],
 "metadata": {
  "kernelspec": {
   "display_name": "Python 3",
   "language": "python",
   "name": "python3"
  },
  "language_info": {
   "codemirror_mode": {
    "name": "ipython",
    "version": 3
   },
   "file_extension": ".py",
   "mimetype": "text/x-python",
   "name": "python",
   "nbconvert_exporter": "python",
   "pygments_lexer": "ipython3",
   "version": "3.5.2"
  }
 },
 "nbformat": 4,
 "nbformat_minor": 2
}
